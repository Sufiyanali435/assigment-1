{
 "cells": [
  {
   "cell_type": "code",
   "execution_count": 17,
   "id": "60e7e0b7",
   "metadata": {},
   "outputs": [
    {
     "name": "stdout",
     "output_type": "stream",
     "text": [
      "Enter Name: WD\n",
      "Enter Roll No: 22\n",
      "Enter Islamiyat Marks: 445\n",
      "Enter English Marks: 223\n",
      "Enter Maths Marks: 342\n",
      "--------------MARKSHEET--------------\n",
      "NAME:WD\n",
      "Roll No:22\n",
      "Obtained Marks:1010\n",
      "Percentage:336.6666666666667\n",
      "==============YOU HAVE ENTERED THE WRONG NUMBER==============\n"
     ]
    }
   ],
   "source": [
    "NAME = input(\"Enter Name: \")\n",
    "Roll_No = int(input(\"Enter Roll No: \"))\n",
    "Islamiyat = int(input(\"Enter Islamiyat Marks: \"))\n",
    "English = int(input(\"Enter English Marks: \"))\n",
    "Maths = int(input(\"Enter Maths Marks: \"))\n",
    "\n",
    "Obtained_Marks = Islamiyat + English + Maths;\n",
    "percentage = Obtained_Marks / 300 * 100;\n",
    "\n",
    "print(\"--------------MARKSHEET--------------\");\n",
    "print(\"NAME:\" + (NAME))\n",
    "print(\"Roll No:\" + str(Roll_No))\n",
    "print(\"Obtained Marks:\" + str(Obtained_Marks))\n",
    "print(\"Percentage:\" + str(percentage))\n",
    "\n",
    "if percentage < 100 and percentage > 80:\n",
    "    print(\"GRADE A+\");\n",
    "    print(\"REMARKS: EXELENT\");\n",
    "    \n",
    "elif percentage < 80 and percentage > 70:\n",
    "    print(\"GRADE A\");\n",
    "    print(\"REMARKS: VERY GOOD\");\n",
    "\n",
    "elif percentage < 70 and percentage > 60:\n",
    "    print(\"GRADE B\");\n",
    "    print(\"REMARKS: GOOD\");\n",
    "    \n",
    "elif percentage < 60 and percentage > 50:\n",
    "    print(\"GRADE C\");\n",
    "    print(\"REMARKS: FAIR\");\n",
    "    \n",
    "elif percentage < 50 and percentage > 40:\n",
    "     print(\"GRADE D\");\n",
    "     print(\"REMARKS: POOR\");\n",
    "\n",
    "elif percentage < 40 and percentage > 33:\n",
    "     print(\"GRADE E\");\n",
    "     print(\"REMARKS: NEED IMPROVEMENT\");\n",
    "\n",
    "elif percentage < 33 and percentage > 0:\n",
    "    print(\"GRADE F (FAIL)\")\n",
    "    print(\"REMARKS: VERY BAD\");\n",
    "    \n",
    "else:\n",
    "    print(\"==============YOU HAVE ENTERED THE WRONG NUMBER==============\")"
   ]
  },
  {
   "cell_type": "code",
   "execution_count": null,
   "id": "b5d2cbe6",
   "metadata": {},
   "outputs": [],
   "source": []
  },
  {
   "cell_type": "code",
   "execution_count": 5,
   "id": "85b99277",
   "metadata": {},
   "outputs": [
    {
     "name": "stdout",
     "output_type": "stream",
     "text": [
      "Enter Name: gtft\n",
      "Enter Roll No: 6\n",
      "Enter Islamiyat Marks: 123\n",
      "Enter English Marks: 1456\n",
      "Enter Maths Marks: 134\n",
      "--------------MARKSHEET--------------\n",
      "NAME:gtft\n",
      "Roll No:6\n",
      "Obtained Marks:1713\n",
      "Percentage:571.0\n",
      "GRADE A+\n",
      "REMARKS: EXELENT\n"
     ]
    }
   ],
   "source": [
    "NAME = input(\"Enter Name: \")\n",
    "Roll_No = int(input(\"Enter Roll No: \"))\n",
    "Islamiyat = int(input(\"Enter Islamiyat Marks: \"))\n",
    "English = int(input(\"Enter English Marks: \"))\n",
    "Maths = int(input(\"Enter Maths Marks: \"))\n",
    "\n",
    "if percentage >= 80:\n",
    "    print(\"GRADE A+\");\n",
    "    print(\"REMARKS: EXELENT\");\n",
    "elif percentage >= 70:\n",
    "    print(\"GRADE A\");\n",
    "    print(\"REMARKS: VERY GOOD\");\n",
    "\n",
    "elif percentage >= 60:\n",
    "    print(\"GRADE B\");\n",
    "    print(\"REMARKS: GOOD\");\n",
    "    \n",
    "elif percentage >= 50:\n",
    "    print(\"GRADE C\");\n",
    "    print(\"REMARKS: FAIR\");\n",
    "    \n",
    "elif percentage >= 40:\n",
    "     print(\"GRADE D\");\n",
    "     print(\"REMARKS: POOR\");\n",
    "\n",
    "elif percentage >= 33:\n",
    "     print(\"GRADE E\");\n",
    "     print(\"REMARKS: NEED IMPROVEMENT\");\n",
    "     \n",
    "elif percentage >= 100:\n",
    "     print(\"YOU'VE ENTER THE WRONG NUMBER\")\n",
    "\n",
    "else:\n",
    "    print(\"GRADE F (FAIL)\")\n",
    "    print(\"REMARKS: VERY BAD\");"
   ]
  },
  {
   "cell_type": "code",
   "execution_count": null,
   "id": "9a28ff2e",
   "metadata": {},
   "outputs": [],
   "source": []
  },
  {
   "cell_type": "code",
   "execution_count": null,
   "id": "64df5ae5",
   "metadata": {},
   "outputs": [],
   "source": []
  }
 ],
 "metadata": {
  "kernelspec": {
   "display_name": "Python 3",
   "language": "python",
   "name": "python3"
  },
  "language_info": {
   "codemirror_mode": {
    "name": "ipython",
    "version": 3
   },
   "file_extension": ".py",
   "mimetype": "text/x-python",
   "name": "python",
   "nbconvert_exporter": "python",
   "pygments_lexer": "ipython3",
   "version": "3.8.8"
  }
 },
 "nbformat": 4,
 "nbformat_minor": 5
}
